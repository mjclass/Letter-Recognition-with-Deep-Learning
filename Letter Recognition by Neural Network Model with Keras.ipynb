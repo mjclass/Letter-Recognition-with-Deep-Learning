{
 "cells": [
  {
   "cell_type": "markdown",
   "metadata": {},
   "source": [
    "## Letter Recognition:\n",
    "\n",
    "* The Letter Recognition dataset consist of 20,000 data samples with 16 input values and one target value for each sample.\n",
    "* The main objective of this project is to model a keras neural network to predict the letter/alphabet when 16 features are inputed.\n",
    "* Initially, the dataset is analysed to understand it, and then the step by step process for building the neural network is applied. \n",
    "* Here, variety of different architecture variations and various hyperparameters are also considered.\n",
    "\n",
    "#### Importing Libraries:"
   ]
  },
  {
   "cell_type": "code",
   "execution_count": 2,
   "metadata": {
    "scrolled": false
   },
   "outputs": [],
   "source": [
    "# importing required libraries\n",
    "\n",
    "import numpy as np\n",
    "import pandas as pd\n",
    "import random\n",
    "import keras\n",
    "import tensorflow as tf\n",
    "import matplotlib.pyplot as plt\n",
    "import seaborn as sns\n",
    "from sklearn.model_selection import train_test_split\n",
    "from sklearn.preprocessing import StandardScaler\n",
    "from sklearn import preprocessing\n",
    "from keras.models import Sequential\n",
    "from keras import layers\n",
    "from keras import regularizers"
   ]
  },
  {
   "cell_type": "markdown",
   "metadata": {},
   "source": [
    "#### Loding Dataset to Dataframe:"
   ]
  },
  {
   "cell_type": "code",
   "execution_count": 3,
   "metadata": {
    "scrolled": false
   },
   "outputs": [
    {
     "data": {
      "text/html": [
       "<div>\n",
       "<style scoped>\n",
       "    .dataframe tbody tr th:only-of-type {\n",
       "        vertical-align: middle;\n",
       "    }\n",
       "\n",
       "    .dataframe tbody tr th {\n",
       "        vertical-align: top;\n",
       "    }\n",
       "\n",
       "    .dataframe thead th {\n",
       "        text-align: right;\n",
       "    }\n",
       "</style>\n",
       "<table border=\"1\" class=\"dataframe\">\n",
       "  <thead>\n",
       "    <tr style=\"text-align: right;\">\n",
       "      <th></th>\n",
       "      <th>letter</th>\n",
       "      <th>xbox</th>\n",
       "      <th>ybox</th>\n",
       "      <th>width</th>\n",
       "      <th>height</th>\n",
       "      <th>onpix</th>\n",
       "      <th>xbar</th>\n",
       "      <th>ybar</th>\n",
       "      <th>x2bar</th>\n",
       "      <th>y2bar</th>\n",
       "      <th>xybar</th>\n",
       "      <th>x2ybar</th>\n",
       "      <th>xy2bar</th>\n",
       "      <th>xedge</th>\n",
       "      <th>xedgey</th>\n",
       "      <th>yedge</th>\n",
       "      <th>yedgex</th>\n",
       "    </tr>\n",
       "  </thead>\n",
       "  <tbody>\n",
       "    <tr>\n",
       "      <td>0</td>\n",
       "      <td>T</td>\n",
       "      <td>2</td>\n",
       "      <td>8</td>\n",
       "      <td>3</td>\n",
       "      <td>5</td>\n",
       "      <td>1</td>\n",
       "      <td>8</td>\n",
       "      <td>13</td>\n",
       "      <td>0</td>\n",
       "      <td>6</td>\n",
       "      <td>6</td>\n",
       "      <td>10</td>\n",
       "      <td>8</td>\n",
       "      <td>0</td>\n",
       "      <td>8</td>\n",
       "      <td>0</td>\n",
       "      <td>8</td>\n",
       "    </tr>\n",
       "    <tr>\n",
       "      <td>1</td>\n",
       "      <td>I</td>\n",
       "      <td>5</td>\n",
       "      <td>12</td>\n",
       "      <td>3</td>\n",
       "      <td>7</td>\n",
       "      <td>2</td>\n",
       "      <td>10</td>\n",
       "      <td>5</td>\n",
       "      <td>5</td>\n",
       "      <td>4</td>\n",
       "      <td>13</td>\n",
       "      <td>3</td>\n",
       "      <td>9</td>\n",
       "      <td>2</td>\n",
       "      <td>8</td>\n",
       "      <td>4</td>\n",
       "      <td>10</td>\n",
       "    </tr>\n",
       "    <tr>\n",
       "      <td>2</td>\n",
       "      <td>D</td>\n",
       "      <td>4</td>\n",
       "      <td>11</td>\n",
       "      <td>6</td>\n",
       "      <td>8</td>\n",
       "      <td>6</td>\n",
       "      <td>10</td>\n",
       "      <td>6</td>\n",
       "      <td>2</td>\n",
       "      <td>6</td>\n",
       "      <td>10</td>\n",
       "      <td>3</td>\n",
       "      <td>7</td>\n",
       "      <td>3</td>\n",
       "      <td>7</td>\n",
       "      <td>3</td>\n",
       "      <td>9</td>\n",
       "    </tr>\n",
       "    <tr>\n",
       "      <td>3</td>\n",
       "      <td>N</td>\n",
       "      <td>7</td>\n",
       "      <td>11</td>\n",
       "      <td>6</td>\n",
       "      <td>6</td>\n",
       "      <td>3</td>\n",
       "      <td>5</td>\n",
       "      <td>9</td>\n",
       "      <td>4</td>\n",
       "      <td>6</td>\n",
       "      <td>4</td>\n",
       "      <td>4</td>\n",
       "      <td>10</td>\n",
       "      <td>6</td>\n",
       "      <td>10</td>\n",
       "      <td>2</td>\n",
       "      <td>8</td>\n",
       "    </tr>\n",
       "    <tr>\n",
       "      <td>4</td>\n",
       "      <td>G</td>\n",
       "      <td>2</td>\n",
       "      <td>1</td>\n",
       "      <td>3</td>\n",
       "      <td>1</td>\n",
       "      <td>1</td>\n",
       "      <td>8</td>\n",
       "      <td>6</td>\n",
       "      <td>6</td>\n",
       "      <td>6</td>\n",
       "      <td>6</td>\n",
       "      <td>5</td>\n",
       "      <td>9</td>\n",
       "      <td>1</td>\n",
       "      <td>7</td>\n",
       "      <td>5</td>\n",
       "      <td>10</td>\n",
       "    </tr>\n",
       "  </tbody>\n",
       "</table>\n",
       "</div>"
      ],
      "text/plain": [
       "  letter  xbox   ybox   width   height  onpix   xbar   ybar   x2bar  y2bar   \\\n",
       "0      T      2      8       3       5       1      8     13      0       6   \n",
       "1      I      5     12       3       7       2     10      5      5       4   \n",
       "2      D      4     11       6       8       6     10      6      2       6   \n",
       "3      N      7     11       6       6       3      5      9      4       6   \n",
       "4      G      2      1       3       1       1      8      6      6       6   \n",
       "\n",
       "   xybar   x2ybar  xy2bar  xedge   xedgey  yedge   yedgex  \n",
       "0       6      10       8       0       8       0       8  \n",
       "1      13       3       9       2       8       4      10  \n",
       "2      10       3       7       3       7       3       9  \n",
       "3       4       4      10       6      10       2       8  \n",
       "4       6       5       9       1       7       5      10  "
      ]
     },
     "execution_count": 3,
     "metadata": {},
     "output_type": "execute_result"
    }
   ],
   "source": [
    "# loading the dataset from CSV file\n",
    "\n",
    "data = pd.read_csv('letter-recognition.csv')\n",
    "data.head()"
   ]
  },
  {
   "cell_type": "markdown",
   "metadata": {},
   "source": [
    "#### Data Understanding:"
   ]
  },
  {
   "cell_type": "code",
   "execution_count": 4,
   "metadata": {
    "scrolled": false
   },
   "outputs": [
    {
     "data": {
      "text/plain": [
       "U    813\n",
       "D    805\n",
       "P    803\n",
       "T    796\n",
       "M    792\n",
       "A    789\n",
       "X    787\n",
       "Y    786\n",
       "Q    783\n",
       "N    783\n",
       "F    775\n",
       "G    773\n",
       "E    768\n",
       "B    766\n",
       "V    764\n",
       "L    761\n",
       "R    758\n",
       "I    755\n",
       "O    753\n",
       "W    752\n",
       "S    748\n",
       "J    747\n",
       "K    739\n",
       "C    736\n",
       "H    734\n",
       "Z    734\n",
       "Name: letter, dtype: int64"
      ]
     },
     "execution_count": 4,
     "metadata": {},
     "output_type": "execute_result"
    }
   ],
   "source": [
    "# finding the count of samples for each alphabet \n",
    "# Please execute only once\n",
    "\n",
    "data['letter'].value_counts()"
   ]
  },
  {
   "cell_type": "code",
   "execution_count": 5,
   "metadata": {
    "scrolled": true
   },
   "outputs": [
    {
     "data": {
      "text/html": [
       "<div>\n",
       "<style scoped>\n",
       "    .dataframe tbody tr th:only-of-type {\n",
       "        vertical-align: middle;\n",
       "    }\n",
       "\n",
       "    .dataframe tbody tr th {\n",
       "        vertical-align: top;\n",
       "    }\n",
       "\n",
       "    .dataframe thead th {\n",
       "        text-align: right;\n",
       "    }\n",
       "</style>\n",
       "<table border=\"1\" class=\"dataframe\">\n",
       "  <thead>\n",
       "    <tr style=\"text-align: right;\">\n",
       "      <th></th>\n",
       "      <th>letter</th>\n",
       "      <th>xbox</th>\n",
       "      <th>ybox</th>\n",
       "      <th>width</th>\n",
       "      <th>height</th>\n",
       "      <th>onpix</th>\n",
       "      <th>xbar</th>\n",
       "      <th>ybar</th>\n",
       "      <th>x2bar</th>\n",
       "      <th>y2bar</th>\n",
       "      <th>xybar</th>\n",
       "      <th>x2ybar</th>\n",
       "      <th>xy2bar</th>\n",
       "      <th>xedge</th>\n",
       "      <th>xedgey</th>\n",
       "      <th>yedge</th>\n",
       "      <th>yedgex</th>\n",
       "    </tr>\n",
       "  </thead>\n",
       "  <tbody>\n",
       "    <tr>\n",
       "      <td>0</td>\n",
       "      <td>19</td>\n",
       "      <td>2</td>\n",
       "      <td>8</td>\n",
       "      <td>3</td>\n",
       "      <td>5</td>\n",
       "      <td>1</td>\n",
       "      <td>8</td>\n",
       "      <td>13</td>\n",
       "      <td>0</td>\n",
       "      <td>6</td>\n",
       "      <td>6</td>\n",
       "      <td>10</td>\n",
       "      <td>8</td>\n",
       "      <td>0</td>\n",
       "      <td>8</td>\n",
       "      <td>0</td>\n",
       "      <td>8</td>\n",
       "    </tr>\n",
       "    <tr>\n",
       "      <td>1</td>\n",
       "      <td>8</td>\n",
       "      <td>5</td>\n",
       "      <td>12</td>\n",
       "      <td>3</td>\n",
       "      <td>7</td>\n",
       "      <td>2</td>\n",
       "      <td>10</td>\n",
       "      <td>5</td>\n",
       "      <td>5</td>\n",
       "      <td>4</td>\n",
       "      <td>13</td>\n",
       "      <td>3</td>\n",
       "      <td>9</td>\n",
       "      <td>2</td>\n",
       "      <td>8</td>\n",
       "      <td>4</td>\n",
       "      <td>10</td>\n",
       "    </tr>\n",
       "    <tr>\n",
       "      <td>2</td>\n",
       "      <td>3</td>\n",
       "      <td>4</td>\n",
       "      <td>11</td>\n",
       "      <td>6</td>\n",
       "      <td>8</td>\n",
       "      <td>6</td>\n",
       "      <td>10</td>\n",
       "      <td>6</td>\n",
       "      <td>2</td>\n",
       "      <td>6</td>\n",
       "      <td>10</td>\n",
       "      <td>3</td>\n",
       "      <td>7</td>\n",
       "      <td>3</td>\n",
       "      <td>7</td>\n",
       "      <td>3</td>\n",
       "      <td>9</td>\n",
       "    </tr>\n",
       "    <tr>\n",
       "      <td>3</td>\n",
       "      <td>13</td>\n",
       "      <td>7</td>\n",
       "      <td>11</td>\n",
       "      <td>6</td>\n",
       "      <td>6</td>\n",
       "      <td>3</td>\n",
       "      <td>5</td>\n",
       "      <td>9</td>\n",
       "      <td>4</td>\n",
       "      <td>6</td>\n",
       "      <td>4</td>\n",
       "      <td>4</td>\n",
       "      <td>10</td>\n",
       "      <td>6</td>\n",
       "      <td>10</td>\n",
       "      <td>2</td>\n",
       "      <td>8</td>\n",
       "    </tr>\n",
       "    <tr>\n",
       "      <td>4</td>\n",
       "      <td>6</td>\n",
       "      <td>2</td>\n",
       "      <td>1</td>\n",
       "      <td>3</td>\n",
       "      <td>1</td>\n",
       "      <td>1</td>\n",
       "      <td>8</td>\n",
       "      <td>6</td>\n",
       "      <td>6</td>\n",
       "      <td>6</td>\n",
       "      <td>6</td>\n",
       "      <td>5</td>\n",
       "      <td>9</td>\n",
       "      <td>1</td>\n",
       "      <td>7</td>\n",
       "      <td>5</td>\n",
       "      <td>10</td>\n",
       "    </tr>\n",
       "  </tbody>\n",
       "</table>\n",
       "</div>"
      ],
      "text/plain": [
       "   letter  xbox   ybox   width   height  onpix   xbar   ybar   x2bar  y2bar   \\\n",
       "0      19      2      8       3       5       1      8     13      0       6   \n",
       "1       8      5     12       3       7       2     10      5      5       4   \n",
       "2       3      4     11       6       8       6     10      6      2       6   \n",
       "3      13      7     11       6       6       3      5      9      4       6   \n",
       "4       6      2      1       3       1       1      8      6      6       6   \n",
       "\n",
       "   xybar   x2ybar  xy2bar  xedge   xedgey  yedge   yedgex  \n",
       "0       6      10       8       0       8       0       8  \n",
       "1      13       3       9       2       8       4      10  \n",
       "2      10       3       7       3       7       3       9  \n",
       "3       4       4      10       6      10       2       8  \n",
       "4       6       5       9       1       7       5      10  "
      ]
     },
     "execution_count": 5,
     "metadata": {},
     "output_type": "execute_result"
    }
   ],
   "source": [
    "#Converting the Alphabet into its corresponding number starting from 0\n",
    "\n",
    "data.letter = [ ord(x) - 65 for x in data.letter ]\n",
    "data.head()"
   ]
  },
  {
   "cell_type": "code",
   "execution_count": 6,
   "metadata": {
    "scrolled": true
   },
   "outputs": [
    {
     "data": {
      "text/html": [
       "<div>\n",
       "<style scoped>\n",
       "    .dataframe tbody tr th:only-of-type {\n",
       "        vertical-align: middle;\n",
       "    }\n",
       "\n",
       "    .dataframe tbody tr th {\n",
       "        vertical-align: top;\n",
       "    }\n",
       "\n",
       "    .dataframe thead th {\n",
       "        text-align: right;\n",
       "    }\n",
       "</style>\n",
       "<table border=\"1\" class=\"dataframe\">\n",
       "  <thead>\n",
       "    <tr style=\"text-align: right;\">\n",
       "      <th></th>\n",
       "      <th>letter</th>\n",
       "      <th>xbox</th>\n",
       "      <th>ybox</th>\n",
       "      <th>width</th>\n",
       "      <th>height</th>\n",
       "      <th>onpix</th>\n",
       "      <th>xbar</th>\n",
       "      <th>ybar</th>\n",
       "      <th>x2bar</th>\n",
       "      <th>y2bar</th>\n",
       "      <th>xybar</th>\n",
       "      <th>x2ybar</th>\n",
       "      <th>xy2bar</th>\n",
       "      <th>xedge</th>\n",
       "      <th>xedgey</th>\n",
       "      <th>yedge</th>\n",
       "      <th>yedgex</th>\n",
       "    </tr>\n",
       "  </thead>\n",
       "  <tbody>\n",
       "    <tr>\n",
       "      <td>count</td>\n",
       "      <td>20000.000000</td>\n",
       "      <td>20000.000000</td>\n",
       "      <td>20000.000000</td>\n",
       "      <td>20000.000000</td>\n",
       "      <td>20000.00000</td>\n",
       "      <td>20000.000000</td>\n",
       "      <td>20000.000000</td>\n",
       "      <td>20000.000000</td>\n",
       "      <td>20000.000000</td>\n",
       "      <td>20000.000000</td>\n",
       "      <td>20000.000000</td>\n",
       "      <td>20000.00000</td>\n",
       "      <td>20000.000000</td>\n",
       "      <td>20000.000000</td>\n",
       "      <td>20000.000000</td>\n",
       "      <td>20000.000000</td>\n",
       "      <td>20000.00000</td>\n",
       "    </tr>\n",
       "    <tr>\n",
       "      <td>mean</td>\n",
       "      <td>12.516750</td>\n",
       "      <td>4.023550</td>\n",
       "      <td>7.035500</td>\n",
       "      <td>5.121850</td>\n",
       "      <td>5.37245</td>\n",
       "      <td>3.505850</td>\n",
       "      <td>6.897600</td>\n",
       "      <td>7.500450</td>\n",
       "      <td>4.628600</td>\n",
       "      <td>5.178650</td>\n",
       "      <td>8.282050</td>\n",
       "      <td>6.45400</td>\n",
       "      <td>7.929000</td>\n",
       "      <td>3.046100</td>\n",
       "      <td>8.338850</td>\n",
       "      <td>3.691750</td>\n",
       "      <td>7.80120</td>\n",
       "    </tr>\n",
       "    <tr>\n",
       "      <td>std</td>\n",
       "      <td>7.502175</td>\n",
       "      <td>1.913212</td>\n",
       "      <td>3.304555</td>\n",
       "      <td>2.014573</td>\n",
       "      <td>2.26139</td>\n",
       "      <td>2.190458</td>\n",
       "      <td>2.026035</td>\n",
       "      <td>2.325354</td>\n",
       "      <td>2.699968</td>\n",
       "      <td>2.380823</td>\n",
       "      <td>2.488475</td>\n",
       "      <td>2.63107</td>\n",
       "      <td>2.080619</td>\n",
       "      <td>2.332541</td>\n",
       "      <td>1.546722</td>\n",
       "      <td>2.567073</td>\n",
       "      <td>1.61747</td>\n",
       "    </tr>\n",
       "    <tr>\n",
       "      <td>min</td>\n",
       "      <td>0.000000</td>\n",
       "      <td>0.000000</td>\n",
       "      <td>0.000000</td>\n",
       "      <td>0.000000</td>\n",
       "      <td>0.00000</td>\n",
       "      <td>0.000000</td>\n",
       "      <td>0.000000</td>\n",
       "      <td>0.000000</td>\n",
       "      <td>0.000000</td>\n",
       "      <td>0.000000</td>\n",
       "      <td>0.000000</td>\n",
       "      <td>0.00000</td>\n",
       "      <td>0.000000</td>\n",
       "      <td>0.000000</td>\n",
       "      <td>0.000000</td>\n",
       "      <td>0.000000</td>\n",
       "      <td>0.00000</td>\n",
       "    </tr>\n",
       "    <tr>\n",
       "      <td>25%</td>\n",
       "      <td>6.000000</td>\n",
       "      <td>3.000000</td>\n",
       "      <td>5.000000</td>\n",
       "      <td>4.000000</td>\n",
       "      <td>4.00000</td>\n",
       "      <td>2.000000</td>\n",
       "      <td>6.000000</td>\n",
       "      <td>6.000000</td>\n",
       "      <td>3.000000</td>\n",
       "      <td>4.000000</td>\n",
       "      <td>7.000000</td>\n",
       "      <td>5.00000</td>\n",
       "      <td>7.000000</td>\n",
       "      <td>1.000000</td>\n",
       "      <td>8.000000</td>\n",
       "      <td>2.000000</td>\n",
       "      <td>7.00000</td>\n",
       "    </tr>\n",
       "    <tr>\n",
       "      <td>50%</td>\n",
       "      <td>13.000000</td>\n",
       "      <td>4.000000</td>\n",
       "      <td>7.000000</td>\n",
       "      <td>5.000000</td>\n",
       "      <td>6.00000</td>\n",
       "      <td>3.000000</td>\n",
       "      <td>7.000000</td>\n",
       "      <td>7.000000</td>\n",
       "      <td>4.000000</td>\n",
       "      <td>5.000000</td>\n",
       "      <td>8.000000</td>\n",
       "      <td>6.00000</td>\n",
       "      <td>8.000000</td>\n",
       "      <td>3.000000</td>\n",
       "      <td>8.000000</td>\n",
       "      <td>3.000000</td>\n",
       "      <td>8.00000</td>\n",
       "    </tr>\n",
       "    <tr>\n",
       "      <td>75%</td>\n",
       "      <td>19.000000</td>\n",
       "      <td>5.000000</td>\n",
       "      <td>9.000000</td>\n",
       "      <td>6.000000</td>\n",
       "      <td>7.00000</td>\n",
       "      <td>5.000000</td>\n",
       "      <td>8.000000</td>\n",
       "      <td>9.000000</td>\n",
       "      <td>6.000000</td>\n",
       "      <td>7.000000</td>\n",
       "      <td>10.000000</td>\n",
       "      <td>8.00000</td>\n",
       "      <td>9.000000</td>\n",
       "      <td>4.000000</td>\n",
       "      <td>9.000000</td>\n",
       "      <td>5.000000</td>\n",
       "      <td>9.00000</td>\n",
       "    </tr>\n",
       "    <tr>\n",
       "      <td>max</td>\n",
       "      <td>25.000000</td>\n",
       "      <td>15.000000</td>\n",
       "      <td>15.000000</td>\n",
       "      <td>15.000000</td>\n",
       "      <td>15.00000</td>\n",
       "      <td>15.000000</td>\n",
       "      <td>15.000000</td>\n",
       "      <td>15.000000</td>\n",
       "      <td>15.000000</td>\n",
       "      <td>15.000000</td>\n",
       "      <td>15.000000</td>\n",
       "      <td>15.00000</td>\n",
       "      <td>15.000000</td>\n",
       "      <td>15.000000</td>\n",
       "      <td>15.000000</td>\n",
       "      <td>15.000000</td>\n",
       "      <td>15.00000</td>\n",
       "    </tr>\n",
       "  </tbody>\n",
       "</table>\n",
       "</div>"
      ],
      "text/plain": [
       "             letter         xbox          ybox         width        height  \\\n",
       "count  20000.000000  20000.000000  20000.000000  20000.000000  20000.00000   \n",
       "mean      12.516750      4.023550      7.035500      5.121850      5.37245   \n",
       "std        7.502175      1.913212      3.304555      2.014573      2.26139   \n",
       "min        0.000000      0.000000      0.000000      0.000000      0.00000   \n",
       "25%        6.000000      3.000000      5.000000      4.000000      4.00000   \n",
       "50%       13.000000      4.000000      7.000000      5.000000      6.00000   \n",
       "75%       19.000000      5.000000      9.000000      6.000000      7.00000   \n",
       "max       25.000000     15.000000     15.000000     15.000000     15.00000   \n",
       "\n",
       "             onpix          xbar          ybar          x2bar        y2bar   \\\n",
       "count  20000.000000  20000.000000  20000.000000  20000.000000  20000.000000   \n",
       "mean       3.505850      6.897600      7.500450      4.628600      5.178650   \n",
       "std        2.190458      2.026035      2.325354      2.699968      2.380823   \n",
       "min        0.000000      0.000000      0.000000      0.000000      0.000000   \n",
       "25%        2.000000      6.000000      6.000000      3.000000      4.000000   \n",
       "50%        3.000000      7.000000      7.000000      4.000000      5.000000   \n",
       "75%        5.000000      8.000000      9.000000      6.000000      7.000000   \n",
       "max       15.000000     15.000000     15.000000     15.000000     15.000000   \n",
       "\n",
       "             xybar        x2ybar        xy2bar        xedge         xedgey  \\\n",
       "count  20000.000000  20000.00000  20000.000000  20000.000000  20000.000000   \n",
       "mean       8.282050      6.45400      7.929000      3.046100      8.338850   \n",
       "std        2.488475      2.63107      2.080619      2.332541      1.546722   \n",
       "min        0.000000      0.00000      0.000000      0.000000      0.000000   \n",
       "25%        7.000000      5.00000      7.000000      1.000000      8.000000   \n",
       "50%        8.000000      6.00000      8.000000      3.000000      8.000000   \n",
       "75%       10.000000      8.00000      9.000000      4.000000      9.000000   \n",
       "max       15.000000     15.00000     15.000000     15.000000     15.000000   \n",
       "\n",
       "             yedge        yedgex  \n",
       "count  20000.000000  20000.00000  \n",
       "mean       3.691750      7.80120  \n",
       "std        2.567073      1.61747  \n",
       "min        0.000000      0.00000  \n",
       "25%        2.000000      7.00000  \n",
       "50%        3.000000      8.00000  \n",
       "75%        5.000000      9.00000  \n",
       "max       15.000000     15.00000  "
      ]
     },
     "execution_count": 6,
     "metadata": {},
     "output_type": "execute_result"
    }
   ],
   "source": [
    "data.describe()"
   ]
  },
  {
   "cell_type": "markdown",
   "metadata": {},
   "source": [
    "The above results show that the letter recognition dataset doesn't have any null or missing values"
   ]
  },
  {
   "cell_type": "markdown",
   "metadata": {},
   "source": [
    "#### Data Visualization:"
   ]
  },
  {
   "cell_type": "code",
   "execution_count": 7,
   "metadata": {
    "scrolled": false
   },
   "outputs": [
    {
     "data": {
      "text/plain": [
       "array([[<matplotlib.axes._subplots.AxesSubplot object at 0x000001AA17EAD148>,\n",
       "        <matplotlib.axes._subplots.AxesSubplot object at 0x000001AA17EFC208>,\n",
       "        <matplotlib.axes._subplots.AxesSubplot object at 0x000001AA17F31B88>,\n",
       "        <matplotlib.axes._subplots.AxesSubplot object at 0x000001AA181FBA08>],\n",
       "       [<matplotlib.axes._subplots.AxesSubplot object at 0x000001AA18233A48>,\n",
       "        <matplotlib.axes._subplots.AxesSubplot object at 0x000001AA1826BB48>,\n",
       "        <matplotlib.axes._subplots.AxesSubplot object at 0x000001AA182A2C88>,\n",
       "        <matplotlib.axes._subplots.AxesSubplot object at 0x000001AA182DAD88>],\n",
       "       [<matplotlib.axes._subplots.AxesSubplot object at 0x000001AA182E6988>,\n",
       "        <matplotlib.axes._subplots.AxesSubplot object at 0x000001AA1831DB48>,\n",
       "        <matplotlib.axes._subplots.AxesSubplot object at 0x000001AA18389088>,\n",
       "        <matplotlib.axes._subplots.AxesSubplot object at 0x000001AA183C0188>],\n",
       "       [<matplotlib.axes._subplots.AxesSubplot object at 0x000001AA183F62C8>,\n",
       "        <matplotlib.axes._subplots.AxesSubplot object at 0x000001AA1842F3C8>,\n",
       "        <matplotlib.axes._subplots.AxesSubplot object at 0x000001AA18468488>,\n",
       "        <matplotlib.axes._subplots.AxesSubplot object at 0x000001AA1A76E5C8>],\n",
       "       [<matplotlib.axes._subplots.AxesSubplot object at 0x000001AA1A7A66C8>,\n",
       "        <matplotlib.axes._subplots.AxesSubplot object at 0x000001AA1A7DF7C8>,\n",
       "        <matplotlib.axes._subplots.AxesSubplot object at 0x000001AA1A8179C8>,\n",
       "        <matplotlib.axes._subplots.AxesSubplot object at 0x000001AA1A84EB88>]],\n",
       "      dtype=object)"
      ]
     },
     "execution_count": 7,
     "metadata": {},
     "output_type": "execute_result"
    },
    {
     "data": {
      "image/png": "[encoded data removed]",
      "text/plain": [
       "<Figure size 1080x1080 with 20 Axes>"
      ]
     },
     "metadata": {
      "needs_background": "light"
     },
     "output_type": "display_data"
    }
   ],
   "source": [
    "#Distribution bar graphs for each column\n",
    "data.hist(figsize=(15,15))"
   ]
  },
  {
   "cell_type": "code",
   "execution_count": 8,
   "metadata": {},
   "outputs": [
    {
     "data": {
      "text/plain": [
       "<matplotlib.axes._subplots.AxesSubplot at 0x1aa17ea8508>"
      ]
     },
     "execution_count": 8,
     "metadata": {},
     "output_type": "execute_result"
    },
    {
     "data": {
      "image/png": "[encoded data removed]",
      "text/plain": [
       "<Figure size 648x504 with 2 Axes>"
      ]
     },
     "metadata": {
      "needs_background": "light"
     },
     "output_type": "display_data"
    }
   ],
   "source": [
    "# Heatmap of Correlation matrix of all features\n",
    "plt.figure(figsize = (9,7))\n",
    "sns.heatmap(data.corr())"
   ]
  },
  {
   "cell_type": "markdown",
   "metadata": {},
   "source": [
    " #### Data Preparation & Normalization:"
   ]
  },
  {
   "cell_type": "code",
   "execution_count": 9,
   "metadata": {
    "scrolled": true
   },
   "outputs": [
    {
     "data": {
      "text/plain": [
       "letter    0\n",
       "xbox      0\n",
       "ybox      0\n",
       "width     0\n",
       "height    0\n",
       "onpix     0\n",
       "xbar      0\n",
       "ybar      0\n",
       "x2bar     0\n",
       "y2bar     0\n",
       "xybar     0\n",
       "x2ybar    0\n",
       "xy2bar    0\n",
       "xedge     0\n",
       "xedgey    0\n",
       "yedge     0\n",
       "yedgex    0\n",
       "dtype: int64"
      ]
     },
     "execution_count": 9,
     "metadata": {},
     "output_type": "execute_result"
    }
   ],
   "source": [
    "# Checking the data for null or missing values\n",
    "\n",
    "data.isnull().sum()"
   ]
  },
  {
   "cell_type": "code",
   "execution_count": 10,
   "metadata": {
    "scrolled": true
   },
   "outputs": [
    {
     "data": {
      "text/plain": [
       "letter    20000\n",
       "xbox      20000\n",
       "ybox      20000\n",
       "width     20000\n",
       "height    20000\n",
       "onpix     20000\n",
       "xbar      20000\n",
       "ybar      20000\n",
       "x2bar     20000\n",
       "y2bar     20000\n",
       "xybar     20000\n",
       "x2ybar    20000\n",
       "xy2bar    20000\n",
       "xedge     20000\n",
       "xedgey    20000\n",
       "yedge     20000\n",
       "yedgex    20000\n",
       "dtype: int64"
      ]
     },
     "execution_count": 10,
     "metadata": {},
     "output_type": "execute_result"
    }
   ],
   "source": [
    "# Checking the data for null or missing values\n",
    "\n",
    "data.notnull().sum()"
   ]
  },
  {
   "cell_type": "code",
   "execution_count": 11,
   "metadata": {
    "scrolled": false
   },
   "outputs": [
    {
     "data": {
      "text/html": [
       "<div>\n",
       "<style scoped>\n",
       "    .dataframe tbody tr th:only-of-type {\n",
       "        vertical-align: middle;\n",
       "    }\n",
       "\n",
       "    .dataframe tbody tr th {\n",
       "        vertical-align: top;\n",
       "    }\n",
       "\n",
       "    .dataframe thead th {\n",
       "        text-align: right;\n",
       "    }\n",
       "</style>\n",
       "<table border=\"1\" class=\"dataframe\">\n",
       "  <thead>\n",
       "    <tr style=\"text-align: right;\">\n",
       "      <th></th>\n",
       "      <th>xbox</th>\n",
       "      <th>ybox</th>\n",
       "      <th>width</th>\n",
       "      <th>height</th>\n",
       "      <th>onpix</th>\n",
       "      <th>xbar</th>\n",
       "      <th>ybar</th>\n",
       "      <th>x2bar</th>\n",
       "      <th>y2bar</th>\n",
       "      <th>xybar</th>\n",
       "      <th>x2ybar</th>\n",
       "      <th>xy2bar</th>\n",
       "      <th>xedge</th>\n",
       "      <th>xedgey</th>\n",
       "      <th>yedge</th>\n",
       "      <th>yedgex</th>\n",
       "    </tr>\n",
       "  </thead>\n",
       "  <tbody>\n",
       "    <tr>\n",
       "      <td>0</td>\n",
       "      <td>2</td>\n",
       "      <td>8</td>\n",
       "      <td>3</td>\n",
       "      <td>5</td>\n",
       "      <td>1</td>\n",
       "      <td>8</td>\n",
       "      <td>13</td>\n",
       "      <td>0</td>\n",
       "      <td>6</td>\n",
       "      <td>6</td>\n",
       "      <td>10</td>\n",
       "      <td>8</td>\n",
       "      <td>0</td>\n",
       "      <td>8</td>\n",
       "      <td>0</td>\n",
       "      <td>8</td>\n",
       "    </tr>\n",
       "    <tr>\n",
       "      <td>1</td>\n",
       "      <td>5</td>\n",
       "      <td>12</td>\n",
       "      <td>3</td>\n",
       "      <td>7</td>\n",
       "      <td>2</td>\n",
       "      <td>10</td>\n",
       "      <td>5</td>\n",
       "      <td>5</td>\n",
       "      <td>4</td>\n",
       "      <td>13</td>\n",
       "      <td>3</td>\n",
       "      <td>9</td>\n",
       "      <td>2</td>\n",
       "      <td>8</td>\n",
       "      <td>4</td>\n",
       "      <td>10</td>\n",
       "    </tr>\n",
       "    <tr>\n",
       "      <td>2</td>\n",
       "      <td>4</td>\n",
       "      <td>11</td>\n",
       "      <td>6</td>\n",
       "      <td>8</td>\n",
       "      <td>6</td>\n",
       "      <td>10</td>\n",
       "      <td>6</td>\n",
       "      <td>2</td>\n",
       "      <td>6</td>\n",
       "      <td>10</td>\n",
       "      <td>3</td>\n",
       "      <td>7</td>\n",
       "      <td>3</td>\n",
       "      <td>7</td>\n",
       "      <td>3</td>\n",
       "      <td>9</td>\n",
       "    </tr>\n",
       "    <tr>\n",
       "      <td>3</td>\n",
       "      <td>7</td>\n",
       "      <td>11</td>\n",
       "      <td>6</td>\n",
       "      <td>6</td>\n",
       "      <td>3</td>\n",
       "      <td>5</td>\n",
       "      <td>9</td>\n",
       "      <td>4</td>\n",
       "      <td>6</td>\n",
       "      <td>4</td>\n",
       "      <td>4</td>\n",
       "      <td>10</td>\n",
       "      <td>6</td>\n",
       "      <td>10</td>\n",
       "      <td>2</td>\n",
       "      <td>8</td>\n",
       "    </tr>\n",
       "    <tr>\n",
       "      <td>4</td>\n",
       "      <td>2</td>\n",
       "      <td>1</td>\n",
       "      <td>3</td>\n",
       "      <td>1</td>\n",
       "      <td>1</td>\n",
       "      <td>8</td>\n",
       "      <td>6</td>\n",
       "      <td>6</td>\n",
       "      <td>6</td>\n",
       "      <td>6</td>\n",
       "      <td>5</td>\n",
       "      <td>9</td>\n",
       "      <td>1</td>\n",
       "      <td>7</td>\n",
       "      <td>5</td>\n",
       "      <td>10</td>\n",
       "    </tr>\n",
       "  </tbody>\n",
       "</table>\n",
       "</div>"
      ],
      "text/plain": [
       "   xbox   ybox   width   height  onpix   xbar   ybar   x2bar  y2bar   xybar   \\\n",
       "0      2      8       3       5       1      8     13      0       6       6   \n",
       "1      5     12       3       7       2     10      5      5       4      13   \n",
       "2      4     11       6       8       6     10      6      2       6      10   \n",
       "3      7     11       6       6       3      5      9      4       6       4   \n",
       "4      2      1       3       1       1      8      6      6       6       6   \n",
       "\n",
       "   x2ybar  xy2bar  xedge   xedgey  yedge   yedgex  \n",
       "0      10       8       0       8       0       8  \n",
       "1       3       9       2       8       4      10  \n",
       "2       3       7       3       7       3       9  \n",
       "3       4      10       6      10       2       8  \n",
       "4       5       9       1       7       5      10  "
      ]
     },
     "execution_count": 11,
     "metadata": {},
     "output_type": "execute_result"
    }
   ],
   "source": [
    "# split into input (X) and output (y) variables\n",
    "\n",
    "X = data.drop('letter',axis=1)\n",
    "y = data['letter']\n",
    "X.head()"
   ]
  },
  {
   "cell_type": "code",
   "execution_count": 12,
   "metadata": {
    "scrolled": false
   },
   "outputs": [
    {
     "data": {
      "text/plain": [
       "0    19\n",
       "1     8\n",
       "2     3\n",
       "3    13\n",
       "4     6\n",
       "Name: letter, dtype: int64"
      ]
     },
     "execution_count": 12,
     "metadata": {},
     "output_type": "execute_result"
    }
   ],
   "source": [
    "y.head()"
   ]
  },
  {
   "cell_type": "code",
   "execution_count": 13,
   "metadata": {},
   "outputs": [],
   "source": [
    "# Spliting dataset into training (70%) and test (30%) set\n",
    "\n",
    "X_train, X_test, y_train, y_test = train_test_split(X, y, test_size = 0.3, \n",
    "                                                    random_state = 0)"
   ]
  },
  {
   "cell_type": "code",
   "execution_count": 14,
   "metadata": {},
   "outputs": [
    {
     "name": "stdout",
     "output_type": "stream",
     "text": [
      "Train: min-max Normalization Range: 0.0 - 1.0\n",
      "Test: min-max Normalization Range: 0.0 - 1.0\n"
     ]
    }
   ],
   "source": [
    "# Normalizing train and test data separately\n",
    "# min-max normalization \n",
    "min_max_scaler = preprocessing.MinMaxScaler()\n",
    "X_train_minmax = min_max_scaler.fit_transform(X_train)\n",
    "X_test_minmax = min_max_scaler.fit_transform(X_test)\n",
    "print(\"Train: min-max Normalization Range:\", np.amin(X_train_minmax),\"-\", np.amax(X_train_minmax))\n",
    "print(\"Test: min-max Normalization Range:\", np.amin(X_test_minmax),\"-\", np.amax(X_test_minmax))"
   ]
  },
  {
   "cell_type": "code",
   "execution_count": 15,
   "metadata": {},
   "outputs": [
    {
     "name": "stdout",
     "output_type": "stream",
     "text": [
      "Train: Z Normalization Range: -5.404615288017298 - 5.739363196435594\n",
      "Test: Z Normalization Range: -4.717728987393372 - 5.2779433735853925\n"
     ]
    }
   ],
   "source": [
    "# Normalizing train and test data separately\n",
    "# Z Normalization  \n",
    "sc = StandardScaler()\n",
    "X_train_norm = sc.fit_transform(X_train)\n",
    "X_test_norm = sc.fit_transform(X_test)\n",
    "print(\"Train: Z Normalization Range:\", np.amin(X_train_norm),\"-\", np.amax(X_train_norm))\n",
    "print(\"Test: Z Normalization Range:\", np.amin(X_test_norm),\"-\", np.amax(X_test_norm))"
   ]
  },
  {
   "cell_type": "markdown",
   "metadata": {},
   "source": [
    "#### Generators without and with Data Augmentation: Total 2 in number"
   ]
  },
  {
   "cell_type": "code",
   "execution_count": 16,
   "metadata": {},
   "outputs": [],
   "source": [
    "#Creating generator to break the dataset into blocks\n",
    "#Not including Data Augmentation\n",
    "def myGenerator(features, label, batch_size):\n",
    "    '''This generator splits the dataset into blocks \n",
    "    of specified batch size. Without Data Augmentation'''\n",
    "\n",
    "    num_samples = len(label)\n",
    "    #features = features.to_numpy()\n",
    "    label = label.to_numpy()\n",
    "    #print(features, label)\n",
    "    while True: # Loop forever so the generator never terminates\n",
    "\n",
    "        for offset in range(0, num_samples, batch_size):\n",
    "            #print(\"Range\", offset, \"-\" , offset+batch_size)\n",
    "            # Gets the samples you'll use in this batch\n",
    "            X_batch = features[offset:offset+batch_size]\n",
    "            y_batch = label[offset:offset+batch_size]\n",
    "            \n",
    "            # The generator-y part: yield the next training batch            \n",
    "            yield X_batch, y_batch"
   ]
  },
  {
   "cell_type": "code",
   "execution_count": 17,
   "metadata": {},
   "outputs": [],
   "source": [
    "#Creating custom generator with data augmentation\n",
    "\n",
    "def myGenAugmentNoise(features, label, batch_size):\n",
    "    \n",
    "    '''This generator adds a random floating value from -1 to 1 to \n",
    "    each & every feature value. The label values are not altered.'''\n",
    "\n",
    "    num_samples = len(label)\n",
    "    #features = features.to_numpy()\n",
    "    label = label.to_numpy()\n",
    "\n",
    "    while True: # Loop forever so the generator never terminates\n",
    "\n",
    "        for offset in range(0, num_samples, batch_size):\n",
    "            #print(\"Range\", offset, \"-\" , offset+batch_size)\n",
    "            # Get the samples you'll use in this batch\n",
    "            X_batch = features[offset:offset+batch_size]\n",
    "            y_batch = label[offset:offset+batch_size]\n",
    "            \n",
    "            # Initialise X_train and y_train arrays for this batch\n",
    "            X_train = []\n",
    "            y_train = []\n",
    "            \n",
    "            # For each example\n",
    "            for i in range(offset, offset+batch_size):\n",
    "                row = []\n",
    "                for j in range(len(features[0])):\n",
    "                    row.append(features[i][j] + random.uniform(-1.0, 1.0))\n",
    "                X_train.append(row)\n",
    "                y_train.append(label[i])\n",
    "\n",
    "            # Make sure they're numpy arrays (as opposed to lists)\n",
    "            X_train = np.array(X_train)\n",
    "            y_train = np.array(y_train)\n",
    "\n",
    "            # The generator-y part: yield the next training batch            \n",
    "            yield X_train, y_train"
   ]
  },
  {
   "cell_type": "code",
   "execution_count": 18,
   "metadata": {},
   "outputs": [],
   "source": [
    "#Generator objects for train data\n",
    "#Z normalized data\n",
    "train_gen11 = myGenerator(X_train_norm, y_train, 1000)\n",
    "train_gen21 = myGenAugmentNoise(X_train_norm, y_train, 1000)\n",
    "\n",
    "#min-max normalized data\n",
    "train_gen12 = myGenerator(X_train_minmax, y_train, 1000)\n",
    "train_gen22 = myGenAugmentNoise(X_train_minmax, y_train, 1000)"
   ]
  },
  {
   "cell_type": "code",
   "execution_count": 19,
   "metadata": {},
   "outputs": [],
   "source": [
    "#Generator objects for test data\n",
    "#Z normalized data\n",
    "test_gen11 = myGenerator(X_test_norm, y_test, 1000)\n",
    "test_gen21 = myGenAugmentNoise(X_test_norm, y_test, 1000)\n",
    "\n",
    "#min-max normalized data\n",
    "test_gen12 = myGenerator(X_test_minmax, y_test, 1000)\n",
    "test_gen22 = myGenAugmentNoise(X_test_minmax, y_test, 1000)"
   ]
  },
  {
   "cell_type": "markdown",
   "metadata": {},
   "source": [
    "#### Keras Model Building:\n",
    "##### Variation 1:\n",
    "* Architecture: **Perceptron**\n",
    "* Activation Function: **Softmax**\n",
    "* Loss Function: **sparse_categorical_crossentropy**\n",
    "* Optimiser: **rmsprop**\n"
   ]
  },
  {
   "cell_type": "code",
   "execution_count": 20,
   "metadata": {
    "scrolled": true
   },
   "outputs": [
    {
     "name": "stdout",
     "output_type": "stream",
     "text": [
      "Model: \"sequential_1\"\n",
      "_________________________________________________________________\n",
      "Layer (type)                 Output Shape              Param #   \n",
      "=================================================================\n",
      "dense_1 (Dense)              (None, 26)                442       \n",
      "=================================================================\n",
      "Total params: 442\n",
      "Trainable params: 442\n",
      "Non-trainable params: 0\n",
      "_________________________________________________________________\n"
     ]
    }
   ],
   "source": [
    "# defining network model\n",
    "\n",
    "model1 = Sequential() # model as a list (sequence) of layers\n",
    "model1.add(layers.Dense(units = 26, activation = tf.nn.softmax, input_dim = 16))\n",
    "model1.summary()"
   ]
  },
  {
   "cell_type": "code",
   "execution_count": 21,
   "metadata": {
    "scrolled": true
   },
   "outputs": [],
   "source": [
    "model1.compile(loss='sparse_categorical_crossentropy', optimizer='rmsprop',\n",
    "              metrics=['accuracy'])"
   ]
  },
  {
   "cell_type": "markdown",
   "metadata": {},
   "source": [
    "**Model 1 witout using generator:**"
   ]
  },
  {
   "cell_type": "code",
   "execution_count": 22,
   "metadata": {
    "scrolled": false
   },
   "outputs": [
    {
     "name": "stdout",
     "output_type": "stream",
     "text": [
      "WARNING:tensorflow:From C:\\Users\\sunda\\Anaconda3\\lib\\site-packages\\keras\\backend\\tensorflow_backend.py:422: The name tf.global_variables is deprecated. Please use tf.compat.v1.global_variables instead.\n",
      "\n",
      "Epoch 1/10\n",
      "14000/14000 [==============================] - 0s 18us/step - loss: 3.3535 - accuracy: 0.0914\n",
      "Epoch 2/10\n",
      "14000/14000 [==============================] - 0s 12us/step - loss: 2.9807 - accuracy: 0.1772\n",
      "Epoch 3/10\n",
      "14000/14000 [==============================] - 0s 12us/step - loss: 2.6894 - accuracy: 0.2626\n",
      "Epoch 4/10\n",
      "14000/14000 [==============================] - 0s 12us/step - loss: 2.4556 - accuracy: 0.3439\n",
      "Epoch 5/10\n",
      "14000/14000 [==============================] - 0s 12us/step - loss: 2.2648 - accuracy: 0.4139\n",
      "Epoch 6/10\n",
      "14000/14000 [==============================] - 0s 12us/step - loss: 2.1074 - accuracy: 0.4686\n",
      "Epoch 7/10\n",
      "14000/14000 [==============================] - 0s 12us/step - loss: 1.9765 - accuracy: 0.5144\n",
      "Epoch 8/10\n",
      "14000/14000 [==============================] - 0s 13us/step - loss: 1.8663 - accuracy: 0.5497\n",
      "Epoch 9/10\n",
      "14000/14000 [==============================] - 0s 14us/step - loss: 1.7729 - accuracy: 0.5752\n",
      "Epoch 10/10\n",
      "14000/14000 [==============================] - 0s 12us/step - loss: 1.6943 - accuracy: 0.6000\n"
     ]
    },
    {
     "data": {
      "text/plain": [
       "<keras.callbacks.callbacks.History at 0x1aa1ad7c888>"
      ]
     },
     "execution_count": 22,
     "metadata": {},
     "output_type": "execute_result"
    }
   ],
   "source": [
    "# Training the model\n",
    "#Witout generator # Z normalization\n",
    "\n",
    "model1.fit(X_train_norm, y_train, batch_size = 200, epochs = 10)"
   ]
  },
  {
   "cell_type": "code",
   "execution_count": 23,
   "metadata": {},
   "outputs": [
    {
     "name": "stdout",
     "output_type": "stream",
     "text": [
      "6000/6000 [==============================] - 0s 32us/step\n",
      "Test Data accuracy: 0.6104999780654907\n"
     ]
    }
   ],
   "source": [
    "test_loss, test_acc = model1.evaluate(X_test_norm, y_test)\n",
    "\n",
    "print('Test Data accuracy:', test_acc)"
   ]
  },
  {
   "cell_type": "code",
   "execution_count": 24,
   "metadata": {},
   "outputs": [
    {
     "name": "stdout",
     "output_type": "stream",
     "text": [
      "Epoch 1/10\n",
      "14000/14000 [==============================] - 0s 9us/step - loss: 2.9583 - accuracy: 0.1129\n",
      "Epoch 2/10\n",
      "14000/14000 [==============================] - 0s 10us/step - loss: 2.8907 - accuracy: 0.3577\n",
      "Epoch 3/10\n",
      "14000/14000 [==============================] - 0s 12us/step - loss: 2.8472 - accuracy: 0.4904\n",
      "Epoch 4/10\n",
      "14000/14000 [==============================] - 0s 13us/step - loss: 2.8134 - accuracy: 0.5106\n",
      "Epoch 5/10\n",
      "14000/14000 [==============================] - 0s 13us/step - loss: 2.7834 - accuracy: 0.5201\n",
      "Epoch 6/10\n",
      "14000/14000 [==============================] - 0s 13us/step - loss: 2.7553 - accuracy: 0.5457\n",
      "Epoch 7/10\n",
      "14000/14000 [==============================] - 0s 13us/step - loss: 2.7283 - accuracy: 0.5354\n",
      "Epoch 8/10\n",
      "14000/14000 [==============================] - 0s 13us/step - loss: 2.7024 - accuracy: 0.5446\n",
      "Epoch 9/10\n",
      "14000/14000 [==============================] - 0s 16us/step - loss: 2.6768 - accuracy: 0.5472\n",
      "Epoch 10/10\n",
      "14000/14000 [==============================] - 0s 15us/step - loss: 2.6518 - accuracy: 0.5488\n"
     ]
    },
    {
     "data": {
      "text/plain": [
       "<keras.callbacks.callbacks.History at 0x1aa1af24d08>"
      ]
     },
     "execution_count": 24,
     "metadata": {},
     "output_type": "execute_result"
    }
   ],
   "source": [
    "# Training the model\n",
    "#Witout generator #min-max Normalization\n",
    "\n",
    "model1.fit(X_train_minmax, y_train, batch_size = 200, epochs = 10)"
   ]
  },
  {
   "cell_type": "code",
   "execution_count": 25,
   "metadata": {},
   "outputs": [
    {
     "name": "stdout",
     "output_type": "stream",
     "text": [
      "6000/6000 [==============================] - 0s 28us/step\n",
      "Test Data accuracy: 0.547166645526886\n"
     ]
    }
   ],
   "source": [
    "test_loss, test_acc = model1.evaluate(X_test_minmax, y_test)\n",
    "\n",
    "print('Test Data accuracy:', test_acc)"
   ]
  },
  {
   "cell_type": "markdown",
   "metadata": {},
   "source": [
    "**Model 1 with generator 1:**"
   ]
  },
  {
   "cell_type": "code",
   "execution_count": 26,
   "metadata": {
    "scrolled": false
   },
   "outputs": [
    {
     "name": "stdout",
     "output_type": "stream",
     "text": [
      "Epoch 1/10\n",
      "14/14 [==============================] - 0s 4ms/step - loss: 1.5467 - accuracy: 0.5498\n",
      "Epoch 2/10\n",
      "14/14 [==============================] - 0s 4ms/step - loss: 1.5071 - accuracy: 0.5636\n",
      "Epoch 3/10\n",
      "14/14 [==============================] - 0s 4ms/step - loss: 1.4753 - accuracy: 0.5774\n",
      "Epoch 4/10\n",
      "14/14 [==============================] - 0s 4ms/step - loss: 1.4473 - accuracy: 0.5869\n",
      "Epoch 5/10\n",
      "14/14 [==============================] - 0s 4ms/step - loss: 1.4221 - accuracy: 0.5988\n",
      "Epoch 6/10\n",
      "14/14 [==============================] - 0s 4ms/step - loss: 1.3996 - accuracy: 0.6084\n",
      "Epoch 7/10\n",
      "14/14 [==============================] - 0s 4ms/step - loss: 1.3793 - accuracy: 0.6186\n",
      "Epoch 8/10\n",
      "14/14 [==============================] - 0s 4ms/step - loss: 1.3612 - accuracy: 0.6296\n",
      "Epoch 9/10\n",
      "14/14 [==============================] - 0s 4ms/step - loss: 1.3449 - accuracy: 0.6386\n",
      "Epoch 10/10\n",
      "14/14 [==============================] - 0s 4ms/step - loss: 1.3302 - accuracy: 0.6464\n"
     ]
    },
    {
     "data": {
      "text/plain": [
       "<keras.callbacks.callbacks.History at 0x1aa1af24808>"
      ]
     },
     "execution_count": 26,
     "metadata": {},
     "output_type": "execute_result"
    }
   ],
   "source": [
    "#Training the model\n",
    "#With generator 1 # Z normalization\n",
    "\n",
    "model1.fit_generator(train_gen11, steps_per_epoch = 14, epochs = 10)"
   ]
  },
  {
   "cell_type": "code",
   "execution_count": 27,
   "metadata": {
    "scrolled": true
   },
   "outputs": [
    {
     "name": "stdout",
     "output_type": "stream",
     "text": [
      "Test Data accuracy: 0.656000018119812\n"
     ]
    }
   ],
   "source": [
    "test_loss, test_acc = model1.evaluate_generator(test_gen11, steps = 6)\n",
    "\n",
    "print('Test Data accuracy:', test_acc)"
   ]
  },
  {
   "cell_type": "code",
   "execution_count": 28,
   "metadata": {},
   "outputs": [
    {
     "name": "stdout",
     "output_type": "stream",
     "text": [
      "Epoch 1/10\n",
      "14/14 [==============================] - 0s 3ms/step - loss: 2.6757 - accuracy: 0.2792\n",
      "Epoch 2/10\n",
      "14/14 [==============================] - 0s 4ms/step - loss: 2.6560 - accuracy: 0.3479\n",
      "Epoch 3/10\n",
      "14/14 [==============================] - 0s 6ms/step - loss: 2.6410 - accuracy: 0.4182\n",
      "Epoch 4/10\n",
      "14/14 [==============================] - 0s 4ms/step - loss: 2.6285 - accuracy: 0.4821\n",
      "Epoch 5/10\n",
      "14/14 [==============================] - 0s 3ms/step - loss: 2.6177 - accuracy: 0.5294\n",
      "Epoch 6/10\n",
      "14/14 [==============================] - 0s 4ms/step - loss: 2.6080 - accuracy: 0.5641\n",
      "Epoch 7/10\n",
      "14/14 [==============================] - 0s 4ms/step - loss: 2.5993 - accuracy: 0.5836\n",
      "Epoch 8/10\n",
      "14/14 [==============================] - 0s 3ms/step - loss: 2.5911 - accuracy: 0.5906\n",
      "Epoch 9/10\n",
      "14/14 [==============================] - 0s 4ms/step - loss: 2.5833 - accuracy: 0.5974\n",
      "Epoch 10/10\n",
      "14/14 [==============================] - 0s 4ms/step - loss: 2.5759 - accuracy: 0.5996\n"
     ]
    },
    {
     "data": {
      "text/plain": [
       "<keras.callbacks.callbacks.History at 0x1aa1ade7688>"
      ]
     },
     "execution_count": 28,
     "metadata": {},
     "output_type": "execute_result"
    }
   ],
   "source": [
    "#Training the model\n",
    "#With generator 1 # min-max normalization\n",
    "\n",
    "model1.fit_generator(train_gen12, steps_per_epoch = 14, epochs = 10)"
   ]
  },
  {
   "cell_type": "code",
   "execution_count": 29,
   "metadata": {},
   "outputs": [
    {
     "name": "stdout",
     "output_type": "stream",
     "text": [
      "Test Data accuracy: 0.6071666479110718\n"
     ]
    }
   ],
   "source": [
    "test_loss, test_acc = model1.evaluate_generator(test_gen12, steps = 6)\n",
    "\n",
    "print('Test Data accuracy:', test_acc)"
   ]
  },
  {
   "cell_type": "markdown",
   "metadata": {},
   "source": [
    "**Model 1 with generator 2:**"
   ]
  },
  {
   "cell_type": "code",
   "execution_count": 30,
   "metadata": {
    "scrolled": false
   },
   "outputs": [
    {
     "name": "stdout",
     "output_type": "stream",
     "text": [
      "Epoch 1/10\n",
      "14/14 [==============================] - 1s 43ms/step - loss: 1.8582 - accuracy: 0.4654\n",
      "Epoch 2/10\n",
      "14/14 [==============================] - 1s 45ms/step - loss: 1.8264 - accuracy: 0.4720\n",
      "Epoch 3/10\n",
      "14/14 [==============================] - 1s 49ms/step - loss: 1.8165 - accuracy: 0.4723\n",
      "Epoch 4/10\n",
      "14/14 [==============================] - 1s 43ms/step - loss: 1.7903 - accuracy: 0.4774\n",
      "Epoch 5/10\n",
      "14/14 [==============================] - 1s 51ms/step - loss: 1.7730 - accuracy: 0.4791\n",
      "Epoch 6/10\n",
      "14/14 [==============================] - 1s 46ms/step - loss: 1.7511 - accuracy: 0.4901 0s - loss: 1.7466 - accuracy: 0.49\n",
      "Epoch 7/10\n",
      "14/14 [==============================] - 0s 35ms/step - loss: 1.7439 - accuracy: 0.4844\n",
      "Epoch 8/10\n",
      "14/14 [==============================] - 1s 52ms/step - loss: 1.7307 - accuracy: 0.4863 0s - loss: 1.7326 - accu\n",
      "Epoch 9/10\n",
      "14/14 [==============================] - 1s 39ms/step - loss: 1.7209 - accuracy: 0.4892\n",
      "Epoch 10/10\n",
      "14/14 [==============================] - 1s 47ms/step - loss: 1.7180 - accuracy: 0.4929\n"
     ]
    },
    {
     "data": {
      "text/plain": [
       "<keras.callbacks.callbacks.History at 0x1aa1ade7108>"
      ]
     },
     "execution_count": 30,
     "metadata": {},
     "output_type": "execute_result"
    }
   ],
   "source": [
    "#Training the model\n",
    "#With generator 2 # Z normalization\n",
    "\n",
    "model1.fit_generator(train_gen21, steps_per_epoch = 14, epochs = 10)"
   ]
  },
  {
   "cell_type": "code",
   "execution_count": 31,
   "metadata": {},
   "outputs": [
    {
     "name": "stdout",
     "output_type": "stream",
     "text": [
      "Test Data accuracy: 0.4945000112056732\n"
     ]
    }
   ],
   "source": [
    "test_loss, test_acc = model1.evaluate_generator(test_gen21, steps = 6)\n",
    "\n",
    "print('Test Data accuracy:', test_acc)"
   ]
  },
  {
   "cell_type": "code",
   "execution_count": 32,
   "metadata": {
    "scrolled": false
   },
   "outputs": [
    {
     "name": "stdout",
     "output_type": "stream",
     "text": [
      "Epoch 1/10\n",
      "14/14 [==============================] - 1s 48ms/step - loss: 1.7167 - accuracy: 0.4939\n",
      "Epoch 2/10\n",
      "14/14 [==============================] - 0s 33ms/step - loss: 1.6978 - accuracy: 0.5009\n",
      "Epoch 3/10\n",
      "14/14 [==============================] - 1s 44ms/step - loss: 1.6973 - accuracy: 0.4988\n",
      "Epoch 4/10\n",
      "14/14 [==============================] - 1s 44ms/step - loss: 1.6873 - accuracy: 0.4991 0s - loss: 1.7004 - accu\n",
      "Epoch 5/10\n",
      "14/14 [==============================] - 1s 52ms/step - loss: 1.6763 - accuracy: 0.4951\n",
      "Epoch 6/10\n",
      "14/14 [==============================] - 1s 47ms/step - loss: 1.6833 - accuracy: 0.4972\n",
      "Epoch 7/10\n",
      "14/14 [==============================] - 1s 47ms/step - loss: 1.6705 - accuracy: 0.5021\n",
      "Epoch 8/10\n",
      "14/14 [==============================] - 1s 45ms/step - loss: 1.6696 - accuracy: 0.5031\n",
      "Epoch 9/10\n",
      "14/14 [==============================] - 0s 34ms/step - loss: 1.6624 - accuracy: 0.5066 0s - loss: 1.6657 - accuracy\n",
      "Epoch 10/10\n",
      "14/14 [==============================] - 1s 47ms/step - loss: 1.6528 - accuracy: 0.5066 0s - loss: 1.6498 - accuracy:  - ETA: 0s - loss: 1.6509 - accuracy: 0.50\n"
     ]
    },
    {
     "data": {
      "text/plain": [
       "<keras.callbacks.callbacks.History at 0x1aa1cea5a88>"
      ]
     },
     "execution_count": 32,
     "metadata": {},
     "output_type": "execute_result"
    }
   ],
   "source": [
    "#Training the model\n",
    "#With generator 2 # min-max normalization\n",
    "\n",
    "model1.fit_generator(train_gen21, steps_per_epoch = 14, epochs = 10)"
   ]
  },
  {
   "cell_type": "code",
   "execution_count": 33,
   "metadata": {
    "scrolled": true
   },
   "outputs": [
    {
     "name": "stdout",
     "output_type": "stream",
     "text": [
      "Test Data accuracy: 0.0871666669845581\n"
     ]
    }
   ],
   "source": [
    "test_loss, test_acc = model1.evaluate_generator(test_gen22, steps = 6)\n",
    "\n",
    "print('Test Data accuracy:', test_acc)"
   ]
  },
  {
   "cell_type": "markdown",
   "metadata": {},
   "source": [
    "##### Variation 2:\n",
    "* Architecture: **3 Hidden layers**\n",
    "* Hidden Activation Function: **Relu**\n",
    "* Activation Function: **Softmax**\n",
    "* Loss Function: **sparse_categorical_crossentropy**\n",
    "* Optimiser: **adam**"
   ]
  },
  {
   "cell_type": "code",
   "execution_count": 34,
   "metadata": {
    "scrolled": false
   },
   "outputs": [
    {
     "name": "stdout",
     "output_type": "stream",
     "text": [
      "Model: \"sequential_2\"\n",
      "_________________________________________________________________\n",
      "Layer (type)                 Output Shape              Param #   \n",
      "=================================================================\n",
      "dense_2 (Dense)              (None, 54)                918       \n",
      "_________________________________________________________________\n",
      "dense_3 (Dense)              (None, 48)                2640      \n",
      "_________________________________________________________________\n",
      "dense_4 (Dense)              (None, 32)                1568      \n",
      "_________________________________________________________________\n",
      "dense_5 (Dense)              (None, 26)                858       \n",
      "=================================================================\n",
      "Total params: 5,984\n",
      "Trainable params: 5,984\n",
      "Non-trainable params: 0\n",
      "_________________________________________________________________\n"
     ]
    }
   ],
   "source": [
    "# defining network model\n",
    "\n",
    "model3 = Sequential() # model as a list (sequence) of layers\n",
    "model3.add(layers.Dense(units = 54, activation = tf.nn.relu, input_dim = 16))\n",
    "model3.add(layers.Dense(units = 48, activation = tf.nn.relu))\n",
    "model3.add(layers.Dense(units = 32, activation = tf.nn.relu))\n",
    "model3.add(layers.Dense(units = 26, activation = tf.nn.softmax))\n",
    "model3.summary()"
   ]
  },
  {
   "cell_type": "code",
   "execution_count": 35,
   "metadata": {},
   "outputs": [],
   "source": [
    "#Compiling the model\n",
    "model3.compile(loss='sparse_categorical_crossentropy', \n",
    "                      optimizer='adam', \n",
    "                      metrics=['accuracy'])"
   ]
  },
  {
   "cell_type": "markdown",
   "metadata": {},
   "source": [
    "**Model 2 witout using generator:**"
   ]
  },
  {
   "cell_type": "code",
   "execution_count": 36,
   "metadata": {
    "scrolled": false
   },
   "outputs": [
    {
     "name": "stdout",
     "output_type": "stream",
     "text": [
      "Epoch 1/20\n",
      "14000/14000 [==============================] - 1s 36us/step - loss: 2.4811 - accuracy: 0.3109\n",
      "Epoch 2/20\n",
      "14000/14000 [==============================] - 0s 32us/step - loss: 1.1467 - accuracy: 0.6637\n",
      "Epoch 3/20\n",
      "14000/14000 [==============================] - 1s 49us/step - loss: 0.8839 - accuracy: 0.7419\n",
      "Epoch 4/20\n",
      "14000/14000 [==============================] - 1s 44us/step - loss: 0.7581 - accuracy: 0.7707\n",
      "Epoch 5/20\n",
      "14000/14000 [==============================] - 0s 29us/step - loss: 0.6669 - accuracy: 0.7970\n",
      "Epoch 6/20\n",
      "14000/14000 [==============================] - 0s 24us/step - loss: 0.5999 - accuracy: 0.8171\n",
      "Epoch 7/20\n",
      "14000/14000 [==============================] - 0s 26us/step - loss: 0.5452 - accuracy: 0.8343\n",
      "Epoch 8/20\n",
      "14000/14000 [==============================] - 0s 26us/step - loss: 0.5007 - accuracy: 0.8480\n",
      "Epoch 9/20\n",
      "14000/14000 [==============================] - 0s 26us/step - loss: 0.4630 - accuracy: 0.8602\n",
      "Epoch 10/20\n",
      "14000/14000 [==============================] - 0s 28us/step - loss: 0.4323 - accuracy: 0.8684\n",
      "Epoch 11/20\n",
      "14000/14000 [==============================] - 0s 30us/step - loss: 0.4028 - accuracy: 0.8761\n",
      "Epoch 12/20\n",
      "14000/14000 [==============================] - 0s 30us/step - loss: 0.3797 - accuracy: 0.8869\n",
      "Epoch 13/20\n",
      "14000/14000 [==============================] - 0s 34us/step - loss: 0.3600 - accuracy: 0.8909\n",
      "Epoch 14/20\n",
      "14000/14000 [==============================] - 0s 33us/step - loss: 0.3395 - accuracy: 0.8979\n",
      "Epoch 15/20\n",
      "14000/14000 [==============================] - 0s 32us/step - loss: 0.3213 - accuracy: 0.9008\n",
      "Epoch 16/20\n",
      "14000/14000 [==============================] - 0s 33us/step - loss: 0.3091 - accuracy: 0.9035\n",
      "Epoch 17/20\n",
      "14000/14000 [==============================] - 1s 41us/step - loss: 0.2942 - accuracy: 0.9081\n",
      "Epoch 18/20\n",
      "14000/14000 [==============================] - 1s 46us/step - loss: 0.2799 - accuracy: 0.9134\n",
      "Epoch 19/20\n",
      "14000/14000 [==============================] - 0s 28us/step - loss: 0.2678 - accuracy: 0.9170\n",
      "Epoch 20/20\n",
      "14000/14000 [==============================] - 1s 46us/step - loss: 0.2543 - accuracy: 0.9219\n"
     ]
    },
    {
     "data": {
      "text/plain": [
       "<keras.callbacks.callbacks.History at 0x1aa1d025888>"
      ]
     },
     "execution_count": 36,
     "metadata": {},
     "output_type": "execute_result"
    }
   ],
   "source": [
    "# Training the model\n",
    "#Witout generator # Z normalization\n",
    "\n",
    "model3.fit(X_train_norm, y_train, batch_size = 100, epochs = 20)"
   ]
  },
  {
   "cell_type": "code",
   "execution_count": 37,
   "metadata": {},
   "outputs": [
    {
     "name": "stdout",
     "output_type": "stream",
     "text": [
      "6000/6000 [==============================] - 0s 40us/step\n",
      "Test Data accuracy: 0.9035000205039978\n"
     ]
    }
   ],
   "source": [
    "test_loss, test_acc = model3.evaluate(X_test_norm, y_test)\n",
    "\n",
    "print('Test Data accuracy:', test_acc)"
   ]
  },
  {
   "cell_type": "code",
   "execution_count": 38,
   "metadata": {
    "scrolled": false
   },
   "outputs": [
    {
     "name": "stdout",
     "output_type": "stream",
     "text": [
      "Epoch 1/20\n",
      "14000/14000 [==============================] - 0s 27us/step - loss: 1.5660 - accuracy: 0.6151\n",
      "Epoch 2/20\n",
      "14000/14000 [==============================] - 0s 26us/step - loss: 0.8927 - accuracy: 0.7622\n",
      "Epoch 3/20\n",
      "14000/14000 [==============================] - 0s 26us/step - loss: 0.7659 - accuracy: 0.7893\n",
      "Epoch 4/20\n",
      "14000/14000 [==============================] - 0s 30us/step - loss: 0.6935 - accuracy: 0.8059\n",
      "Epoch 5/20\n",
      "14000/14000 [==============================] - 0s 29us/step - loss: 0.6391 - accuracy: 0.8214\n",
      "Epoch 6/20\n",
      "14000/14000 [==============================] - 0s 31us/step - loss: 0.5996 - accuracy: 0.8269\n",
      "Epoch 7/20\n",
      "14000/14000 [==============================] - 0s 27us/step - loss: 0.5646 - accuracy: 0.8338\n",
      "Epoch 8/20\n",
      "14000/14000 [==============================] - 0s 25us/step - loss: 0.5358 - accuracy: 0.8434\n",
      "Epoch 9/20\n",
      "14000/14000 [==============================] - 0s 29us/step - loss: 0.5103 - accuracy: 0.8504\n",
      "Epoch 10/20\n",
      "14000/14000 [==============================] - 1s 43us/step - loss: 0.4844 - accuracy: 0.8578\n",
      "Epoch 11/20\n",
      "14000/14000 [==============================] - 1s 43us/step - loss: 0.4651 - accuracy: 0.8649\n",
      "Epoch 12/20\n",
      "14000/14000 [==============================] - 0s 29us/step - loss: 0.4466 - accuracy: 0.8688\n",
      "Epoch 13/20\n",
      "14000/14000 [==============================] - 0s 26us/step - loss: 0.4311 - accuracy: 0.8736\n",
      "Epoch 14/20\n",
      "14000/14000 [==============================] - 1s 41us/step - loss: 0.4161 - accuracy: 0.8769\n",
      "Epoch 15/20\n",
      "14000/14000 [==============================] - 0s 24us/step - loss: 0.4055 - accuracy: 0.8789\n",
      "Epoch 16/20\n",
      "14000/14000 [==============================] - 0s 32us/step - loss: 0.3922 - accuracy: 0.8823\n",
      "Epoch 17/20\n",
      "14000/14000 [==============================] - 0s 28us/step - loss: 0.3790 - accuracy: 0.8871\n",
      "Epoch 18/20\n",
      "14000/14000 [==============================] - 0s 23us/step - loss: 0.3687 - accuracy: 0.8908\n",
      "Epoch 19/20\n",
      "14000/14000 [==============================] - 0s 28us/step - loss: 0.3585 - accuracy: 0.8926\n",
      "Epoch 20/20\n",
      "14000/14000 [==============================] - 0s 28us/step - loss: 0.3538 - accuracy: 0.8959\n"
     ]
    },
    {
     "data": {
      "text/plain": [
       "<keras.callbacks.callbacks.History at 0x1aa1d431788>"
      ]
     },
     "execution_count": 38,
     "metadata": {},
     "output_type": "execute_result"
    }
   ],
   "source": [
    "# Training the model\n",
    "#Witout generator #min-max Normalization\n",
    "\n",
    "model3.fit(X_train_minmax, y_train, batch_size = 100, epochs = 20)"
   ]
  },
  {
   "cell_type": "code",
   "execution_count": 39,
   "metadata": {},
   "outputs": [
    {
     "name": "stdout",
     "output_type": "stream",
     "text": [
      "6000/6000 [==============================] - 0s 29us/step\n",
      "Test Data accuracy: 0.8606666922569275\n"
     ]
    }
   ],
   "source": [
    "test_loss, test_acc = model3.evaluate(X_test_minmax, y_test)\n",
    "\n",
    "print('Test Data accuracy:', test_acc)"
   ]
  },
  {
   "cell_type": "markdown",
   "metadata": {},
   "source": [
    "**Model 2 with generator 1:**"
   ]
  },
  {
   "cell_type": "code",
   "execution_count": 40,
   "metadata": {
    "scrolled": false
   },
   "outputs": [
    {
     "name": "stdout",
     "output_type": "stream",
     "text": [
      "Epoch 1/20\n",
      "21/21 [==============================] - 0s 6ms/step - loss: 2.2216 - accuracy: 0.7609\n",
      "Epoch 2/20\n",
      "21/21 [==============================] - 0s 7ms/step - loss: 0.7764 - accuracy: 0.8588\n",
      "Epoch 3/20\n",
      "21/21 [==============================] - 0s 7ms/step - loss: 0.5665 - accuracy: 0.8837\n",
      "Epoch 4/20\n",
      "21/21 [==============================] - 0s 7ms/step - loss: 0.4765 - accuracy: 0.8927\n",
      "Epoch 5/20\n",
      "21/21 [==============================] - 0s 7ms/step - loss: 0.4353 - accuracy: 0.9001\n",
      "Epoch 6/20\n",
      "21/21 [==============================] - 0s 7ms/step - loss: 0.3935 - accuracy: 0.9036\n",
      "Epoch 7/20\n",
      "21/21 [==============================] - 0s 8ms/step - loss: 0.3742 - accuracy: 0.9070\n",
      "Epoch 8/20\n",
      "21/21 [==============================] - 0s 6ms/step - loss: 0.3462 - accuracy: 0.9101\n",
      "Epoch 9/20\n",
      "21/21 [==============================] - 0s 7ms/step - loss: 0.3349 - accuracy: 0.9131\n",
      "Epoch 10/20\n",
      "21/21 [==============================] - 0s 7ms/step - loss: 0.3138 - accuracy: 0.9152\n",
      "Epoch 11/20\n",
      "21/21 [==============================] - 0s 7ms/step - loss: 0.3066 - accuracy: 0.9175\n",
      "Epoch 12/20\n",
      "21/21 [==============================] - 0s 7ms/step - loss: 0.2893 - accuracy: 0.9199\n",
      "Epoch 13/20\n",
      "21/21 [==============================] - 0s 7ms/step - loss: 0.2852 - accuracy: 0.9212\n",
      "Epoch 14/20\n",
      "21/21 [==============================] - 0s 7ms/step - loss: 0.2698 - accuracy: 0.9233\n",
      "Epoch 15/20\n",
      "21/21 [==============================] - 0s 6ms/step - loss: 0.2678 - accuracy: 0.9242\n",
      "Epoch 16/20\n",
      "21/21 [==============================] - 0s 7ms/step - loss: 0.2536 - accuracy: 0.9264: 0s - loss: 0.2609 - accuracy: 0.92\n",
      "Epoch 17/20\n",
      "21/21 [==============================] - 0s 7ms/step - loss: 0.2532 - accuracy: 0.9268\n",
      "Epoch 18/20\n",
      "21/21 [==============================] - 0s 6ms/step - loss: 0.2401 - accuracy: 0.9297\n",
      "Epoch 19/20\n",
      "21/21 [==============================] - 0s 7ms/step - loss: 0.2408 - accuracy: 0.9293\n",
      "Epoch 20/20\n",
      "21/21 [==============================] - 0s 7ms/step - loss: 0.2285 - accuracy: 0.9318\n"
     ]
    },
    {
     "data": {
      "text/plain": [
       "<keras.callbacks.callbacks.History at 0x1aa1d438608>"
      ]
     },
     "execution_count": 40,
     "metadata": {},
     "output_type": "execute_result"
    }
   ],
   "source": [
    "#Training the model\n",
    "#With generator 1 # Z normalization\n",
    "\n",
    "model3.fit_generator(train_gen11, steps_per_epoch = 21, epochs = 20)"
   ]
  },
  {
   "cell_type": "code",
   "execution_count": 41,
   "metadata": {
    "scrolled": true
   },
   "outputs": [
    {
     "name": "stdout",
     "output_type": "stream",
     "text": [
      "Test Data accuracy: 0.906000018119812\n"
     ]
    }
   ],
   "source": [
    "test_loss, test_acc = model3.evaluate_generator(test_gen11, steps = 18)\n",
    "\n",
    "print('Test Data accuracy:', test_acc)"
   ]
  },
  {
   "cell_type": "code",
   "execution_count": 42,
   "metadata": {
    "scrolled": false
   },
   "outputs": [
    {
     "name": "stdout",
     "output_type": "stream",
     "text": [
      "Epoch 1/20\n",
      "21/21 [==============================] - 0s 5ms/step - loss: 2.1425 - accuracy: 0.5429\n",
      "Epoch 2/20\n",
      "21/21 [==============================] - 0s 7ms/step - loss: 0.6404 - accuracy: 0.8004\n",
      "Epoch 3/20\n",
      "21/21 [==============================] - 0s 7ms/step - loss: 0.4763 - accuracy: 0.8728\n",
      "Epoch 4/20\n",
      "21/21 [==============================] - 0s 7ms/step - loss: 0.4313 - accuracy: 0.8836\n",
      "Epoch 5/20\n",
      "21/21 [==============================] - 0s 6ms/step - loss: 0.4084 - accuracy: 0.8893\n",
      "Epoch 6/20\n",
      "21/21 [==============================] - 0s 6ms/step - loss: 0.3950 - accuracy: 0.8925\n",
      "Epoch 7/20\n",
      "21/21 [==============================] - 0s 6ms/step - loss: 0.3852 - accuracy: 0.8948\n",
      "Epoch 8/20\n",
      "21/21 [==============================] - 0s 7ms/step - loss: 0.3766 - accuracy: 0.8982\n",
      "Epoch 9/20\n",
      "21/21 [==============================] - 0s 6ms/step - loss: 0.3710 - accuracy: 0.8998\n",
      "Epoch 10/20\n",
      "21/21 [==============================] - 0s 7ms/step - loss: 0.3641 - accuracy: 0.9017\n",
      "Epoch 11/20\n",
      "21/21 [==============================] - 0s 5ms/step - loss: 0.3607 - accuracy: 0.9018\n",
      "Epoch 12/20\n",
      "21/21 [==============================] - 0s 6ms/step - loss: 0.3546 - accuracy: 0.9047\n",
      "Epoch 13/20\n",
      "21/21 [==============================] - 0s 7ms/step - loss: 0.3525 - accuracy: 0.9042\n",
      "Epoch 14/20\n",
      "21/21 [==============================] - 0s 7ms/step - loss: 0.3467 - accuracy: 0.9070\n",
      "Epoch 15/20\n",
      "21/21 [==============================] - 0s 7ms/step - loss: 0.3454 - accuracy: 0.9059\n",
      "Epoch 16/20\n",
      "21/21 [==============================] - 0s 7ms/step - loss: 0.3397 - accuracy: 0.9090\n",
      "Epoch 17/20\n",
      "21/21 [==============================] - 0s 7ms/step - loss: 0.3389 - accuracy: 0.9080\n",
      "Epoch 18/20\n",
      "21/21 [==============================] - 0s 6ms/step - loss: 0.3334 - accuracy: 0.9105\n",
      "Epoch 19/20\n",
      "21/21 [==============================] - 0s 7ms/step - loss: 0.3330 - accuracy: 0.9090\n",
      "Epoch 20/20\n",
      "21/21 [==============================] - 0s 7ms/step - loss: 0.3279 - accuracy: 0.9115\n"
     ]
    },
    {
     "data": {
      "text/plain": [
       "<keras.callbacks.callbacks.History at 0x1aa1d440688>"
      ]
     },
     "execution_count": 42,
     "metadata": {},
     "output_type": "execute_result"
    }
   ],
   "source": [
    "#Training the model\n",
    "#With generator 1 # min-max normalization\n",
    "\n",
    "model3.fit_generator(train_gen12, steps_per_epoch = 21, epochs = 20)"
   ]
  },
  {
   "cell_type": "code",
   "execution_count": 43,
   "metadata": {
    "scrolled": true
   },
   "outputs": [
    {
     "name": "stdout",
     "output_type": "stream",
     "text": [
      "Test Data accuracy: 0.8691666722297668\n"
     ]
    }
   ],
   "source": [
    "test_loss, test_acc = model3.evaluate_generator(test_gen12, steps = 18)\n",
    "\n",
    "print('Test Data accuracy:', test_acc)"
   ]
  },
  {
   "cell_type": "markdown",
   "metadata": {},
   "source": [
    "**Model 2 with generator 2:**"
   ]
  },
  {
   "cell_type": "code",
   "execution_count": 44,
   "metadata": {
    "scrolled": false
   },
   "outputs": [
    {
     "name": "stdout",
     "output_type": "stream",
     "text": [
      "Epoch 1/20\n",
      "21/21 [==============================] - 1s 57ms/step - loss: 7.0986 - accuracy: 0.4918 0s - loss: 7.1974 - accuracy: 0.49\n",
      "Epoch 2/20\n",
      "21/21 [==============================] - 1s 42ms/step - loss: 4.0823 - accuracy: 0.4984\n",
      "Epoch 3/20\n",
      "21/21 [==============================] - 1s 42ms/step - loss: 2.8847 - accuracy: 0.4946\n",
      "Epoch 4/20\n",
      "21/21 [==============================] - 1s 39ms/step - loss: 2.3553 - accuracy: 0.4922 0s - loss: 2.3989 - accuracy\n",
      "Epoch 5/20\n",
      "21/21 [==============================] - 1s 54ms/step - loss: 2.0958 - accuracy: 0.4834\n",
      "Epoch 6/20\n",
      "21/21 [==============================] - 1s 46ms/step - loss: 1.9090 - accuracy: 0.4920\n",
      "Epoch 7/20\n",
      "21/21 [==============================] - 1s 37ms/step - loss: 1.8047 - accuracy: 0.4932\n",
      "Epoch 8/20\n",
      "21/21 [==============================] - 1s 46ms/step - loss: 1.7546 - accuracy: 0.4993\n",
      "Epoch 9/20\n",
      "21/21 [==============================] - 1s 42ms/step - loss: 1.7023 - accuracy: 0.4989 0s - loss: 1.7123 - accuracy\n",
      "Epoch 10/20\n",
      "21/21 [==============================] - 1s 42ms/step - loss: 1.6438 - accuracy: 0.5137\n",
      "Epoch 11/20\n",
      "21/21 [==============================] - 1s 50ms/step - loss: 1.6155 - accuracy: 0.5153\n",
      "Epoch 12/20\n",
      "21/21 [==============================] - 1s 35ms/step - loss: 1.5917 - accuracy: 0.5184\n",
      "Epoch 13/20\n",
      "21/21 [==============================] - 1s 38ms/step - loss: 1.5618 - accuracy: 0.5204\n",
      "Epoch 14/20\n",
      "21/21 [==============================] - 1s 40ms/step - loss: 1.5556 - accuracy: 0.5240 0s - loss: 1.5572 - accu\n",
      "Epoch 15/20\n",
      "21/21 [==============================] - 1s 33ms/step - loss: 1.5308 - accuracy: 0.5263\n",
      "Epoch 16/20\n",
      "21/21 [==============================] - 1s 40ms/step - loss: 1.5204 - accuracy: 0.5287\n",
      "Epoch 17/20\n",
      "21/21 [==============================] - 1s 47ms/step - loss: 1.5127 - accuracy: 0.5335\n",
      "Epoch 18/20\n",
      "21/21 [==============================] - 1s 40ms/step - loss: 1.4940 - accuracy: 0.5384\n",
      "Epoch 19/20\n",
      "21/21 [==============================] - 1s 45ms/step - loss: 1.4816 - accuracy: 0.5354 0s - loss: 1\n",
      "Epoch 20/20\n",
      "21/21 [==============================] - 1s 58ms/step - loss: 1.4660 - accuracy: 0.5369\n"
     ]
    },
    {
     "data": {
      "text/plain": [
       "<keras.callbacks.callbacks.History at 0x1aa1d438508>"
      ]
     },
     "execution_count": 44,
     "metadata": {},
     "output_type": "execute_result"
    }
   ],
   "source": [
    "#Training the model\n",
    "#With generator 2 # Z normalization\n",
    "\n",
    "model3.fit_generator(train_gen21, steps_per_epoch = 21, epochs = 20)"
   ]
  },
  {
   "cell_type": "code",
   "execution_count": 45,
   "metadata": {},
   "outputs": [
    {
     "name": "stdout",
     "output_type": "stream",
     "text": [
      "Test Data accuracy: 0.5399444699287415\n"
     ]
    }
   ],
   "source": [
    "test_loss, test_acc = model3.evaluate_generator(test_gen21, steps = 18)\n",
    "\n",
    "print('Test Data accuracy:', test_acc)"
   ]
  },
  {
   "cell_type": "code",
   "execution_count": 46,
   "metadata": {
    "scrolled": false
   },
   "outputs": [
    {
     "name": "stdout",
     "output_type": "stream",
     "text": [
      "Epoch 1/20\n",
      "21/21 [==============================] - 1s 47ms/step - loss: 1.4548 - accuracy: 0.5404\n",
      "Epoch 2/20\n",
      "21/21 [==============================] - 1s 49ms/step - loss: 1.4516 - accuracy: 0.5490 0s - loss: 1.4479 - accura\n",
      "Epoch 3/20\n",
      "21/21 [==============================] - 1s 46ms/step - loss: 1.4393 - accuracy: 0.5435\n",
      "Epoch 4/20\n",
      "21/21 [==============================] - 1s 42ms/step - loss: 1.4420 - accuracy: 0.5448\n",
      "Epoch 5/20\n",
      "21/21 [==============================] - 1s 40ms/step - loss: 1.4161 - accuracy: 0.5534\n",
      "Epoch 6/20\n",
      "21/21 [==============================] - 1s 44ms/step - loss: 1.4160 - accuracy: 0.5495\n",
      "Epoch 7/20\n",
      "21/21 [==============================] - 1s 54ms/step - loss: 1.4098 - accuracy: 0.5527\n",
      "Epoch 8/20\n",
      "21/21 [==============================] - 1s 35ms/step - loss: 1.4070 - accuracy: 0.5561\n",
      "Epoch 9/20\n",
      "21/21 [==============================] - 1s 42ms/step - loss: 1.3852 - accuracy: 0.5593 0s - loss: 1.3931 - accu\n",
      "Epoch 10/20\n",
      "21/21 [==============================] - 1s 54ms/step - loss: 1.3734 - accuracy: 0.5595 0s - loss: 1.3740 - accuracy: \n",
      "Epoch 11/20\n",
      "21/21 [==============================] - 1s 55ms/step - loss: 1.3665 - accuracy: 0.5610\n",
      "Epoch 12/20\n",
      "21/21 [==============================] - 1s 47ms/step - loss: 1.3801 - accuracy: 0.5621\n",
      "Epoch 13/20\n",
      "21/21 [==============================] - 1s 50ms/step - loss: 1.3712 - accuracy: 0.5584\n",
      "Epoch 14/20\n",
      "21/21 [==============================] - 1s 40ms/step - loss: 1.3525 - accuracy: 0.5667 0s - loss: 1.3496 - \n",
      "Epoch 15/20\n",
      "21/21 [==============================] - 1s 39ms/step - loss: 1.3725 - accuracy: 0.5621\n",
      "Epoch 16/20\n",
      "21/21 [==============================] - 1s 42ms/step - loss: 1.3621 - accuracy: 0.5675\n",
      "Epoch 17/20\n",
      "21/21 [==============================] - 1s 31ms/step - loss: 1.3594 - accuracy: 0.5689 0s - loss: 1.3545 - accuracy: \n",
      "Epoch 18/20\n",
      "21/21 [==============================] - 1s 43ms/step - loss: 1.3364 - accuracy: 0.5669\n",
      "Epoch 19/20\n",
      "21/21 [==============================] - 1s 37ms/step - loss: 1.3297 - accuracy: 0.5685\n",
      "Epoch 20/20\n",
      "21/21 [==============================] - 1s 38ms/step - loss: 1.3367 - accuracy: 0.5706 0s - loss: 1.3356 - accuracy: \n"
     ]
    },
    {
     "data": {
      "text/plain": [
       "<keras.callbacks.callbacks.History at 0x1aa1ac65888>"
      ]
     },
     "execution_count": 46,
     "metadata": {},
     "output_type": "execute_result"
    }
   ],
   "source": [
    "#Training the model\n",
    "#With generator 2 # min-max normalization\n",
    "\n",
    "model3.fit_generator(train_gen21, steps_per_epoch = 21, epochs = 20)"
   ]
  },
  {
   "cell_type": "code",
   "execution_count": 91,
   "metadata": {
    "scrolled": true
   },
   "outputs": [
    {
     "name": "stdout",
     "output_type": "stream",
     "text": [
      "Test Data accuracy: 0.08116666972637177\n"
     ]
    }
   ],
   "source": [
    "test_loss, test_acc = model3.evaluate_generator(test_gen22, steps = 18)\n",
    "\n",
    "print('Test Data accuracy:', test_acc)"
   ]
  },
  {
   "cell_type": "markdown",
   "metadata": {},
   "source": [
    "Models without the addition noise has higher accuracy of classifying than the onw with noise. <br>\n",
    "Z normalization is better than min-max normalization for this dataset."
   ]
  }
 ],
 "metadata": {
  "kernelspec": {
   "display_name": "Python 3",
   "language": "python",
   "name": "python3"
  },
  "language_info": {
   "codemirror_mode": {
    "name": "ipython",
    "version": 3
   },
   "file_extension": ".py",
   "mimetype": "text/x-python",
   "name": "python",
   "nbconvert_exporter": "python",
   "pygments_lexer": "ipython3",
   "version": "3.7.4"
  }
 },
 "nbformat": 4,
 "nbformat_minor": 2
}
